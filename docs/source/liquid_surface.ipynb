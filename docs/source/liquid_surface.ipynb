{
 "cells": [
  {
   "cell_type": "markdown",
   "metadata": {},
   "source": [
    "# Liquid surface\n",
    "\n",
    "Detailed here is the reduction of reflectometry from a liquid surface, such that the sample surface is horizontally oriented and the I07 double crystal deflector system is used to position the X-ray beam.\n",
    "Here, we show the reduction of reflectometry collected from a water-surface in air. \n",
    "\n",
    "The first task is to enure that the necessary modules and packages have been imported."
   ]
  },
  {
   "cell_type": "code",
   "execution_count": 86,
   "metadata": {},
   "outputs": [],
   "source": [
    "# islatu is the data reduction pacakge\n",
    "from islatu import io, refl_data, image, cropping, background\n",
    "from scipy.interpolate import splrep\n",
    "from PIL import Image\n",
    "from uncertainties import unumpy as unp\n",
    "from uncertainties import ufloat\n",
    "import matplotlib.pyplot as plt"
   ]
  },
  {
   "cell_type": "markdown",
   "metadata": {},
   "source": [
    "Once everything has been imported, we must set up the DCD q-dependent normalisation, this is due to slight deviations in the DCD crystals that lead to changes in the incident radiation intensity. \n",
    "The normalisation curve should have been collected during your beamtime, the `.dat` file that contains this curve should be assigned below."
   ]
  },
  {
   "cell_type": "code",
   "execution_count": 2,
   "metadata": {},
   "outputs": [],
   "source": [
    "normalisation_file = 'qdcd_norm.dat'"
   ]
  },
  {
   "cell_type": "markdown",
   "metadata": {},
   "source": [
    "The file is read using the `islatu.io.i07_dat_parser` function and the data and associated metadata are returned. "
   ]
  },
  {
   "cell_type": "code",
   "execution_count": 3,
   "metadata": {},
   "outputs": [],
   "source": [
    "metadata_norm, data_norm = io.i07_dat_parser(normalisation_file)"
   ]
  },
  {
   "cell_type": "markdown",
   "metadata": {},
   "source": [
    "It is possible to quickly observe the shape of the normalisation, by plotting. \n",
    "The x-axis ($q$) data is in the `'qdcd_'` object, while the intensity variation is typically stored in the `'adc2'` object. "
   ]
  },
  {
   "cell_type": "code",
   "execution_count": 4,
   "metadata": {},
   "outputs": [
    {
     "data": {
      "image/png": "[encoded data removed]",
      "text/plain": [
       "<Figure size 432x288 with 1 Axes>"
      ]
     },
     "metadata": {
      "needs_background": "light"
     },
     "output_type": "display_data"
    }
   ],
   "source": [
    "plt.plot(data_norm['qdcd_'], data_norm['adc2'], 'o')\n",
    "plt.xlabel(r'$q$/Å')\n",
    "plt.ylabel(r'Intensity')\n",
    "plt.show()"
   ]
  },
  {
   "cell_type": "markdown",
   "metadata": {},
   "source": [
    "It can be seen that this information has been collected at a series of linearly-spaced, discrete points.\n",
    "Therefore, such that the normalisation may be performed at the $q$-points collected in the experimental measurements we must interpolate, which is achieved with the `scipy.interpolate.splrep` function. "
   ]
  },
  {
   "cell_type": "code",
   "execution_count": 5,
   "metadata": {},
   "outputs": [],
   "source": [
    "itp = splrep(data_norm['qdcd_'], data_norm['adc2'])"
   ]
  },
  {
   "cell_type": "markdown",
   "metadata": {},
   "source": [
    "This `itp` object will be used later in the reduction process. \n",
    "\n",
    "The next step is to loop through each of the reflectometry scans collected that make up a curve, remember that due to the changes in attenutation a full reflectometry curve typically contains 3-5 scans. \n",
    "In this work, five scans where performed and the files are called `refl_1.dat` to `refl_5.dat`. "
   ]
  },
  {
   "cell_type": "code",
   "execution_count": 89,
   "metadata": {},
   "outputs": [],
   "source": [
    "files = ['refl_{}.dat'.format(i) for i in range(1, 6)]"
   ]
  },
  {
   "cell_type": "code",
   "execution_count": 90,
   "metadata": {},
   "outputs": [
    {
     "ename": "AttributeError",
     "evalue": "module 'islatu.refl_data' has no attribute 'Profile'",
     "output_type": "error",
     "traceback": [
      "\u001b[0;31m---------------------------------------------------------------------------\u001b[0m",
      "\u001b[0;31mAttributeError\u001b[0m                            Traceback (most recent call last)",
      "\u001b[0;32m<ipython-input-90-d7051beae75d>\u001b[0m in \u001b[0;36m<module>\u001b[0;34m\u001b[0m\n\u001b[0;32m----> 1\u001b[0;31m \u001b[0mrefl\u001b[0m \u001b[0;34m=\u001b[0m \u001b[0mrefl_data\u001b[0m\u001b[0;34m.\u001b[0m\u001b[0mProfile\u001b[0m\u001b[0;34m(\u001b[0m\u001b[0mfiles\u001b[0m\u001b[0;34m,\u001b[0m \u001b[0mio\u001b[0m\u001b[0;34m.\u001b[0m\u001b[0mi07_dat_parser\u001b[0m\u001b[0;34m)\u001b[0m\u001b[0;34m\u001b[0m\u001b[0;34m\u001b[0m\u001b[0m\n\u001b[0m",
      "\u001b[0;31mAttributeError\u001b[0m: module 'islatu.refl_data' has no attribute 'Profile'"
     ]
    }
   ],
   "source": [
    "refl = refl_data.Profile(files, io.i07_dat_parser)"
   ]
  },
  {
   "cell_type": "code",
   "execution_count": null,
   "metadata": {},
   "outputs": [],
   "source": []
  },
  {
   "cell_type": "code",
   "execution_count": null,
   "metadata": {},
   "outputs": [],
   "source": []
  },
  {
   "cell_type": "code",
   "execution_count": 71,
   "metadata": {},
   "outputs": [],
   "source": [
    "dat = []\n",
    "for i in range(1, 6):\n",
    "    dat.append(refl_data.ReflData('refl_{}.dat'.format(i), io.i07_dat_parser))"
   ]
  },
  {
   "cell_type": "markdown",
   "metadata": {},
   "source": [
    "The above cell will read in each of the `.dat` files in turn and sore the information in a list named `dat`. \n",
    "With all of the `.dat` files read, the reduction can begin. \n",
    "Reflectometry data is collected at I07 as a series of detector images, like that shown below."
   ]
  },
  {
   "cell_type": "code",
   "execution_count": 72,
   "metadata": {},
   "outputs": [],
   "source": [
    "q = dat[-1].data['qdcd'][10]"
   ]
  },
  {
   "cell_type": "code",
   "execution_count": 73,
   "metadata": {},
   "outputs": [
    {
     "data": {
      "text/plain": [
       "<matplotlib.image.AxesImage at 0x11bc33d10>"
      ]
     },
     "execution_count": 73,
     "metadata": {},
     "output_type": "execute_result"
    },
    {
     "data": {
      "image/png": "[encoded data removed]",
      "text/plain": [
       "<Figure size 432x288 with 1 Axes>"
      ]
     },
     "metadata": {
      "needs_background": "light"
     },
     "output_type": "display_data"
    }
   ],
   "source": [
    "im = image.Image(dat[-1].data['file'][10])\n",
    "plt.imshow(im.n)"
   ]
  },
  {
   "cell_type": "markdown",
   "metadata": {},
   "source": [
    "The point in the middle of this image is the reflected intensity peak that we want to obtain, therefore it is necessary to crop this image down (to get rid of the unnecessary, blank pixels)."
   ]
  },
  {
   "cell_type": "code",
   "execution_count": 74,
   "metadata": {},
   "outputs": [
    {
     "data": {
      "text/plain": [
       "<matplotlib.image.AxesImage at 0x11acab910>"
      ]
     },
     "execution_count": 74,
     "metadata": {},
     "output_type": "execute_result"
    },
    {
     "data": {
      "image/png": "[encoded data removed]",
      "text/plain": [
       "<Figure size 432x288 with 1 Axes>"
      ]
     },
     "metadata": {
      "needs_background": "light"
     },
     "output_type": "display_data"
    }
   ],
   "source": [
    "im.crop(cropping.crop_around_peak_2d)\n",
    "plt.imshow(im.n)"
   ]
  },
  {
   "cell_type": "markdown",
   "metadata": {},
   "source": [
    "Having reduce the size of the image and focused on the peak, we now need to perform a subtraction of the background signals. \n",
    "This signal can be seen if we reduce the dimensionality of the plot by summing along the y-axis of the image."
   ]
  },
  {
   "cell_type": "code",
   "execution_count": 75,
   "metadata": {},
   "outputs": [
    {
     "data": {
      "text/plain": [
       "(0.0, 2000.0)"
      ]
     },
     "execution_count": 75,
     "metadata": {},
     "output_type": "execute_result"
    },
    {
     "data": {
      "image/png": "[encoded data removed]",
      "text/plain": [
       "<Figure size 432x288 with 1 Axes>"
      ]
     },
     "metadata": {
      "needs_background": "light"
     },
     "output_type": "display_data"
    }
   ],
   "source": [
    "plt.plot(im.n.mean(axis=0))\n",
    "plt.ylim(0, 2000)"
   ]
  },
  {
   "cell_type": "markdown",
   "metadata": {},
   "source": [
    "Notice that the background level is around 250 counts.\n",
    "It is necessary to remove this for our data to be accurate when modelling is applied later. \n",
    "\n",
    "The background subtraction is performed by fitting a two-dimensional Gaussian function, with some offset from the ordinate, to the image. \n",
    "The amount by which the fit is offset from the ordinate is then subtracted from each pixel of the image."
   ]
  },
  {
   "cell_type": "code",
   "execution_count": 76,
   "metadata": {},
   "outputs": [
    {
     "data": {
      "text/plain": [
       "<matplotlib.image.AxesImage at 0x11d8c00d0>"
      ]
     },
     "execution_count": 76,
     "metadata": {},
     "output_type": "execute_result"
    },
    {
     "data": {
      "image/png": "[encoded data removed]",
      "text/plain": [
       "<Figure size 432x288 with 1 Axes>"
      ]
     },
     "metadata": {
      "needs_background": "light"
     },
     "output_type": "display_data"
    }
   ],
   "source": [
    "im.background_subtraction(background.fit_gaussian_2d)\n",
    "plt.imshow(im.n)"
   ]
  },
  {
   "cell_type": "markdown",
   "metadata": {},
   "source": [
    "The image above does not appear to have changed, but the background subtraction is visible when the dimensionality is reduced. "
   ]
  },
  {
   "cell_type": "code",
   "execution_count": 77,
   "metadata": {},
   "outputs": [
    {
     "data": {
      "text/plain": [
       "(0.0, 2000.0)"
      ]
     },
     "execution_count": 77,
     "metadata": {},
     "output_type": "execute_result"
    },
    {
     "data": {
      "image/png": "[encoded data removed]",
      "text/plain": [
       "<Figure size 432x288 with 1 Axes>"
      ]
     },
     "metadata": {
      "needs_background": "light"
     },
     "output_type": "display_data"
    }
   ],
   "source": [
    "plt.plot(im.n.mean(axis=0))\n",
    "plt.ylim(0, 2000)"
   ]
  },
  {
   "cell_type": "markdown",
   "metadata": {},
   "source": [
    "The background level is stored in the `image.Image` object. \n"
   ]
  },
  {
   "cell_type": "code",
   "execution_count": 78,
   "metadata": {},
   "outputs": [
    {
     "name": "stdout",
     "output_type": "stream",
     "text": [
      "188+/-5\n"
     ]
    }
   ],
   "source": [
    "print(im.bkg)"
   ]
  },
  {
   "cell_type": "markdown",
   "metadata": {},
   "source": [
    "Above, we have performed the cropping and background subtraction on a single image, a single $q$-vector. \n",
    "However, it is necessary to perform this operation on all of the images, this is achieved through the `crop_and_bkg_sub` class method.\n",
    "So to perform this process on each `.dat` file we run the following. "
   ]
  },
  {
   "cell_type": "code",
   "execution_count": 80,
   "metadata": {},
   "outputs": [
    {
     "name": "stderr",
     "output_type": "stream",
     "text": [
      "100%|██████████| 61/61 [01:03<00:00,  1.05s/it]\n",
      "100%|██████████| 15/15 [00:15<00:00,  1.03s/it]\n",
      "100%|██████████| 14/14 [00:14<00:00,  1.06s/it]\n",
      "100%|██████████| 19/19 [00:19<00:00,  1.03s/it]\n",
      "100%|██████████| 16/16 [00:15<00:00,  1.03it/s]\n"
     ]
    }
   ],
   "source": [
    "for d in dat:\n",
    "    d.crop_and_bkg_sub(cropping.crop_around_peak_2d, background.fit_gaussian_2d)"
   ]
  },
  {
   "cell_type": "markdown",
   "metadata": {},
   "source": [
    "This process can take some time.\n",
    "\n",
    "The $q$-uncertainty can be assigned based on the shape of the two-dimensional Gaussian function which is fitted to the image."
   ]
  },
  {
   "cell_type": "code",
   "execution_count": 81,
   "metadata": {},
   "outputs": [],
   "source": [
    "for d in dat:\n",
    "    d.q_uncertainty_from_pixel()"
   ]
  },
  {
   "cell_type": "markdown",
   "metadata": {},
   "source": [
    "The image intensity is the summed to give the *unnormalised* reflected intensity, and associated uncertainties."
   ]
  },
  {
   "cell_type": "code",
   "execution_count": 82,
   "metadata": {},
   "outputs": [
    {
     "data": {
      "image/png": "[encoded data removed]",
      "text/plain": [
       "<Figure size 432x288 with 1 Axes>"
      ]
     },
     "metadata": {
      "needs_background": "light"
     },
     "output_type": "display_data"
    }
   ],
   "source": [
    "for d in dat:\n",
    "    plt.errorbar(unp.nominal_values(d.q), \n",
    "                 unp.nominal_values(d.R), \n",
    "                 yerr=unp.std_devs(d.R),\n",
    "                 xerr=unp.std_devs(d.q), \n",
    "                 ls='',\n",
    "                 marker='o')\n",
    "plt.xlabel(r'$q$/Å')\n",
    "plt.ylabel(r'Intensity')\n",
    "plt.yscale('log')\n",
    "plt.show()"
   ]
  },
  {
   "cell_type": "markdown",
   "metadata": {},
   "source": [
    "There are now two normalisations to be performed on the individual scan, the first is due to the transmission of radiation. \n",
    "This means that when stitching is performed later, the data are already closer together in intensity so the stitching is more robust. "
   ]
  },
  {
   "cell_type": "code",
   "execution_count": 83,
   "metadata": {},
   "outputs": [],
   "source": [
    "for d in dat:\n",
    "    d.transmission_normalisation()"
   ]
  },
  {
   "cell_type": "markdown",
   "metadata": {},
   "source": [
    "You can see below the immediate improvement in the profile."
   ]
  },
  {
   "cell_type": "code",
   "execution_count": 84,
   "metadata": {},
   "outputs": [
    {
     "data": {
      "image/png": "[encoded data removed]",
      "text/plain": [
       "<Figure size 432x288 with 1 Axes>"
      ]
     },
     "metadata": {
      "needs_background": "light"
     },
     "output_type": "display_data"
    }
   ],
   "source": [
    "for d in dat:\n",
    "    plt.errorbar(unp.nominal_values(d.q), \n",
    "                 unp.nominal_values(d.R), \n",
    "                 yerr=unp.std_devs(d.R),\n",
    "                 xerr=unp.std_devs(d.q), \n",
    "                 ls='',\n",
    "                 marker='o')\n",
    "plt.xlabel(r'$q$/Å')\n",
    "plt.ylabel(r'Intensity')\n",
    "plt.yscale('log')\n",
    "plt.show()"
   ]
  },
  {
   "cell_type": "markdown",
   "metadata": {},
   "source": [
    "The second correction is due to the DCD $q$-dependence mentioned previously. \n",
    "The interpolated line (`itp`) is fed into the analysis, using the `qdcd_normalisation` method. "
   ]
  },
  {
   "cell_type": "code",
   "execution_count": 85,
   "metadata": {},
   "outputs": [],
   "source": [
    "for d in dat:\n",
    "    d.qdcd_normalisation(itp)"
   ]
  },
  {
   "cell_type": "markdown",
   "metadata": {},
   "source": [
    "Finally, in the scan reduction, we perform the [footprint correction](https://doi.org/10.1107/S0021889807030403) which accounts for the sample being smaller than the beam footprint (due to the shallow angle).\n",
    "Where the first argument is the beam width at half maximum, and the second argument is the sample size and uncertainty. "
   ]
  },
  {
   "cell_type": "code",
   "execution_count": 87,
   "metadata": {},
   "outputs": [],
   "source": [
    "for d in dat:\n",
    "    d.footprint_correction(100e-6, ufloat(100e-3, 10e-3))"
   ]
  },
  {
   "cell_type": "markdown",
   "metadata": {},
   "source": [
    "Finally we can plot our reduced scans."
   ]
  },
  {
   "cell_type": "code",
   "execution_count": 88,
   "metadata": {},
   "outputs": [
    {
     "data": {
      "image/png": "[encoded data removed]",
      "text/plain": [
       "<Figure size 432x288 with 1 Axes>"
      ]
     },
     "metadata": {
      "needs_background": "light"
     },
     "output_type": "display_data"
    }
   ],
   "source": [
    "for d in dat:\n",
    "    plt.errorbar(unp.nominal_values(d.q), \n",
    "                 unp.nominal_values(d.R), \n",
    "                 yerr=unp.std_devs(d.R),\n",
    "                 xerr=unp.std_devs(d.q), \n",
    "                 ls='',\n",
    "                 marker='o')\n",
    "plt.xlabel(r'$q$/Å')\n",
    "plt.ylabel(r'Intensity')\n",
    "plt.yscale('log')\n",
    "plt.show()"
   ]
  },
  {
   "cell_type": "markdown",
   "metadata": {},
   "source": [
    "Following the scan reduction, the $q$ and intensity data are combined as a s"
   ]
  }
 ],
 "metadata": {
  "kernelspec": {
   "display_name": "Python 3",
   "language": "python",
   "name": "python3"
  },
  "language_info": {
   "codemirror_mode": {
    "name": "ipython",
    "version": 3
   },
   "file_extension": ".py",
   "mimetype": "text/x-python",
   "name": "python",
   "nbconvert_exporter": "python",
   "pygments_lexer": "ipython3",
   "version": "3.7.6"
  }
 },
 "nbformat": 4,
 "nbformat_minor": 4
}
