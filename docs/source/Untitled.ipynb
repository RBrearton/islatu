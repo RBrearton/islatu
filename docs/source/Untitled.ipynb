{
 "cells": [
  {
   "cell_type": "markdown",
   "metadata": {},
   "source": [
    "# Liquid surface\n",
    "\n",
    "Detailed here is the reduction of reflectometry from a liquid surface, such that the sample surface is horizontally oriented and the I07 double crystal deflector system is used to position the X-ray beam.\n",
    "Here, we show the reduction of reflectometry collected from a water-surface in air. \n",
    "\n",
    "The first task is to enure that the necessary modules and packages have been imported."
   ]
  },
  {
   "cell_type": "code",
   "execution_count": 11,
   "metadata": {},
   "outputs": [],
   "source": [
    "# islatu is the data reduction pacakge\n",
    "from islatu import io\n",
    "from scipy.interpolate import splrep\n",
    "import matplotlib.pyplot as plt"
   ]
  },
  {
   "cell_type": "markdown",
   "metadata": {},
   "source": [
    "Once everything has been imported, we must set up the DCD q-dependent normalisation, this is due to slight deviations in the DCD crystals that lead to changes in the incident radiation intensity. \n",
    "The normalisation curve should have been collected during your beamtime, the `.dat` file that contains this curve should be assigned below."
   ]
  },
  {
   "cell_type": "code",
   "execution_count": 9,
   "metadata": {},
   "outputs": [],
   "source": [
    "normalisation_file = 'qdcd_norm.dat'"
   ]
  },
  {
   "cell_type": "markdown",
   "metadata": {},
   "source": [
    "The file is read using the `islatu.io.i07_dat_parser` function and the data and associated metadata are returned. "
   ]
  },
  {
   "cell_type": "code",
   "execution_count": 10,
   "metadata": {},
   "outputs": [],
   "source": [
    "metadata_norm, data_norm = io.i07_dat_parser(normalisation_file)"
   ]
  },
  {
   "cell_type": "markdown",
   "metadata": {},
   "source": [
    "It is possible to quickly observe the shape of the normalisation, by plotting. \n",
    "The x-axis ($q$) data is in the `'qdcd_'` object, while the intensity variation is typically stored in the `'adc2'` object. "
   ]
  },
  {
   "cell_type": "code",
   "execution_count": 15,
   "metadata": {},
   "outputs": [
    {
     "data": {
      "image/png": "[encoded data removed]",
      "text/plain": [
       "<Figure size 432x288 with 1 Axes>"
      ]
     },
     "metadata": {
      "needs_background": "light"
     },
     "output_type": "display_data"
    }
   ],
   "source": [
    "plt.plot(data_norm['qdcd_'], data_norm['adc2'], 'o')\n",
    "plt.xlabel(r'$q$/Å')\n",
    "plt.ylabel(r'Intensity')\n",
    "plt.show()"
   ]
  },
  {
   "cell_type": "markdown",
   "metadata": {},
   "source": [
    "It can be seen that this information has been collected at a series of linearly-spaced, discrete points.\n",
    "Therefore, such that the normalisation may be performed at the $q$-points collected in the experimental measurements we must interpolate, which is achieved with the `scipy.interpolate.splrep` function. "
   ]
  },
  {
   "cell_type": "code",
   "execution_count": 16,
   "metadata": {},
   "outputs": [],
   "source": [
    "itp = splrep(data_norm['qdcd_'], data_norm['adc2'])"
   ]
  },
  {
   "cell_type": "markdown",
   "metadata": {},
   "source": [
    "This `itp` object will be used later in the reduction process. "
   ]
  },
  {
   "cell_type": "code",
   "execution_count": null,
   "metadata": {},
   "outputs": [],
   "source": []
  }
 ],
 "metadata": {
  "kernelspec": {
   "display_name": "Python 3",
   "language": "python",
   "name": "python3"
  },
  "language_info": {
   "codemirror_mode": {
    "name": "ipython",
    "version": 3
   },
   "file_extension": ".py",
   "mimetype": "text/x-python",
   "name": "python",
   "nbconvert_exporter": "python",
   "pygments_lexer": "ipython3",
   "version": "3.7.6"
  }
 },
 "nbformat": 4,
 "nbformat_minor": 4
}
