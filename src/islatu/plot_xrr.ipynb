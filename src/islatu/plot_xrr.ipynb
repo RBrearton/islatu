{
 "cells": [
  {
   "cell_type": "code",
   "execution_count": null,
   "metadata": {},
   "outputs": [],
   "source": [
    "# Import everything we'll need to load and render the data.\n",
    "import plotly.express as px\n",
    "from plotly.subplots import make_subplots\n",
    "import plotly.graph_objects as go\n",
    "import numpy as np\n",
    "\n"
   ]
  },
  {
   "cell_type": "code",
   "execution_count": null,
   "metadata": {},
   "outputs": [],
   "source": [
    "# pylint: skip-file"
   ]
  },
  {
   "cell_type": "code",
   "execution_count": null,
   "metadata": {},
   "outputs": [],
   "source": [
    "# Typical paths that can be useful for the construction of the actual data path\n",
    "i07_data_path = \"/Users/richard/Documents/Data/\"\n",
    "DCD_data_path = i07_data_path + \"DCD/\"\n",
    "tom_arnold_data_path = DCD_data_path + \"tom_arnold_data/\"\n",
    "tom_arnold_processing_path = tom_arnold_data_path + \"processing/\""
   ]
  },
  {
   "cell_type": "code",
   "execution_count": null,
   "metadata": {},
   "outputs": [],
   "source": [
    "# Preapre the path to the data.\n",
    "DATA_PATH = tom_arnold_processing_path + \"XRR_404875_dcd_template.dat\"\n",
    "# DATA_PATH = \"/Users/richardbrearton/Desktop/XRR_404875_dcd_template.dat\"\n",
    "# DATA_PATH = \"/Users/richardbrearton/Desktop/XRR_404875_dcd_template2021-10-22_11h21m52s.dat\"\n",
    "FIGURE_TITLE = DATA_PATH\n",
    "IS_LOG = True\n"
   ]
  },
  {
   "cell_type": "code",
   "execution_count": null,
   "metadata": {},
   "outputs": [],
   "source": [
    "# Load the data.\n",
    "arr = np.loadtxt(DATA_PATH)\n",
    "x = arr.T[0]\n",
    "y = arr.T[1]\n",
    "yerr = arr.T[2]\n"
   ]
  },
  {
   "cell_type": "code",
   "execution_count": null,
   "metadata": {},
   "outputs": [],
   "source": [
    "# Plot the data.\n",
    "fig = go.Figure().update_layout(title=FIGURE_TITLE,\n",
    "                                xaxis_title='Q/Å', yaxis_title='R',\n",
    "                                width=900, height=800, autosize=False)\n",
    "fig.add_trace(go.Scatter(x=x, y=y,\n",
    "    error_y={\n",
    "        \"type\": 'data',\n",
    "        \"array\": yerr,\n",
    "        \"visible\": True})\n",
    ")\n",
    "\n",
    "if IS_LOG:\n",
    "    fig.update_yaxes(type='log')\n",
    "\n",
    "\n",
    "fig.show()\n"
   ]
  }
 ],
 "metadata": {
  "interpreter": {
   "hash": "858ae358d70069e98b2e4357723f278976ccf48c20cdf7b03a0142400c8ed753"
  },
  "kernelspec": {
   "display_name": "Python 3.9.7 64-bit ('islatu': conda)",
   "name": "python3"
  },
  "language_info": {
   "codemirror_mode": {
    "name": "ipython",
    "version": 3
   },
   "file_extension": ".py",
   "mimetype": "text/x-python",
   "name": "python",
   "nbconvert_exporter": "python",
   "pygments_lexer": "ipython3",
   "version": "3.9.7"
  }
 },
 "nbformat": 4,
 "nbformat_minor": 2
}
